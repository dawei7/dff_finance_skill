{
 "cells": [
  {
   "cell_type": "markdown",
   "metadata": {},
   "source": [
    "### Weekly project report - David Schmid\n"
   ]
  },
  {
   "cell_type": "markdown",
   "metadata": {},
   "source": [
    "##### Instructions: \n",
    "- The report (report.md/report.ipynb ) should be in the root of your repository of a project\n",
    "- The link to the repository have to be shared with us \n",
    "- Weekly report can be built in md-file or ipynb file \n",
    "- All reports for each week should be written into one file \n",
    "- Each week should be in a separated section in the file, see as shown in this file \n",
    "- The report should contain subsections TODO / WIP (work in progress) / Done / Issues \n",
    "- Each section should contain a list of works and their descriptions \n",
    "- Adding pictures / graphs / code inserts to md / ipynb cells can improve your report \n",
    "- The deadline is 11.59 pm UTC -12h (anywhere on earth)\n",
    "<br><br>\n",
    "- <b>Remark for myself: UTC-12h is 13 hours behind Central European time (CET) and 15 hours behind Moscow time, Thursday 11.59 pm is 12:59 every Friday."
   ]
  },
  {
   "cell_type": "markdown",
   "metadata": {},
   "source": [
    "### 1. Week 1 (30.12.2021)"
   ]
  },
  {
   "cell_type": "markdown",
   "metadata": {},
   "source": [
    "#### 1.1 Done"
   ]
  },
  {
   "cell_type": "markdown",
   "metadata": {},
   "source": [
    "<b>1.1.1 Exploring</b>\n",
    "- Git Clone of \"dff_TEMPLATE_skill\"\n",
    "- Exploring the basic examples of \"dff_funfact_skill\"\n",
    "- Playing around with the plot, responses, conditions and annotations"
   ]
  },
  {
   "cell_type": "markdown",
   "metadata": {},
   "source": [
    "<b>1.1.2 Developing plot branches and sketched a plan</b>\n",
    "<br><br>\n",
    "My introductionary bot message:\n",
    "<br><br>\n",
    "Hello I'm your personal financial bi-lingual chat-bot.<br>\n",
    "I speak 'English and 'German'. Whenever you want to change the language<br>\n",
    "type the keyword 'german' or 'english' to switch the language.<br>\n",
    "You can go back to this bot introduction anywhere in the chat workflow by typing 'start'.<br>\n",
    "<br><br>\n",
    "I have the following financial skills:<br>\n",
    "    - Check your balance, transfer money, deposit/withdraw money (REGEX/ Local save)<br>\n",
    "    - Showing current share prices (REGEX/ yfinance API)<br>\n",
    "    - Chatting about financial topics (HuggingFace)<br>\n",
    "<br><br>\n",
    "Off-topic skill:<br>\n",
    "    - Information about the creator of the bot. (ML/DL)<br>\n",
    "<br>"
   ]
  },
  {
   "cell_type": "markdown",
   "metadata": {},
   "source": [
    "My plan is to have 4 branches, ordered by difficulty level:\n",
    "1. Check your balance, transfer money, deposit/withdraw money (REGEX/ Local save)\n",
    "-> Not difficult, but good to explore all the functions of the plot-library\n",
    "2. Showing current share prices (REGEX/ yfinance API)\n",
    "-> The interesting part here to query yfinance API as additional element\n",
    "3. Chatting about financial topics (HuggingFace)\n",
    "-> Only planned, not extensively explored yet\n",
    "4. Information about the creator of the bot. (ML/DL)\n",
    "-> Only planned, not extensively explored yet"
   ]
  },
  {
   "cell_type": "markdown",
   "metadata": {},
   "source": [
    "<b> 1.1.3 Impemented Elements:</b>\n",
    "- Local condition with REGEX\n",
    "- Local response with Regex\n",
    "- Annotations to check loop and add a special message if there is a loop\n",
    "- Annotations to check the language keywords \"german\" or english for every label state\n",
    "- Deepl API for translating English to German and German back to English. Language is not automatically recognized until now, this I plan to implement for point 3 and 4, for 1 and 2 the user has to explicitely type \"german\" or \"english\"\n"
   ]
  },
  {
   "cell_type": "markdown",
   "metadata": {},
   "source": [
    "<b> 1.1.4 Follow up to code review of Denis Kuznetsov</b><br>\n",
    "Denis Kuznetsov shortly reviewed my repository and have me the following feedback, which was very helpful. Here my measures (->)\n",
    "- add .gitignore file for ignoring files/dirs like __pycache__, *.py and and etc. https://git-scm.com/docs/gitignore\n",
    "-> Done\n",
    "- you can describe your commits w/o date because date is added by git in each commit\n",
    "-> Yes, good advice will consider in future\n",
    "- i recommended to  use branching check https://www.atlassian.com/git/tutorials/comparing-workflows/gitflow-workflow\n",
    "-> That was helpful, I have now 2 branches and I am develop on dev branch and merge with master, if finished\n",
    "- do not use global  it's a bad pattern instead you can save LANG to misc ( from context)\n",
    "-> Yes, that was bad practice, I didn't know how to use with ctx.misc, afterwards looked at the basic example and could apply it with ctx.misc[\"language]\n",
    "- open and load a file outside of a function\n",
    "-> Fixed it\n",
    "- use  os.getenv(\"DEEPL_AUTH_KEY\")  outside of a function\n",
    "-> Fixed it"
   ]
  },
  {
   "cell_type": "markdown",
   "metadata": {},
   "source": [
    "#### 1.2 WIP\n",
    "- It was time consuming to explore the elements and play around. Currently I am finishing the plot and functions for branch '1. Check your balance'"
   ]
  },
  {
   "cell_type": "markdown",
   "metadata": {},
   "source": [
    "#### 1.3 To Do\n",
    "- I want as soon as possible finish branch 1 and branch 2 (easy parts) to have to tackle the more advanced parts Chat-Bot techniques"
   ]
  },
  {
   "cell_type": "markdown",
   "metadata": {},
   "source": [
    "#### 1.4 Issues\n",
    "- I don't understand how to use \"PROCESSING\" in plot."
   ]
  },
  {
   "cell_type": "markdown",
   "metadata": {},
   "source": [
    "### 2. Week 2 (06.01.2022)"
   ]
  },
  {
   "cell_type": "markdown",
   "metadata": {},
   "source": [
    "#### 1.1 Done"
   ]
  },
  {
   "cell_type": "markdown",
   "metadata": {},
   "source": [
    "- Dialogue Branch: Check your balance, transfer money, deposit/withdraw money (REGEX/ Local save)<br>\n",
    "-> Completed, still some minor issues to fix"
   ]
  },
  {
   "cell_type": "markdown",
   "metadata": {},
   "source": [
    "#### 1.2 WIP\n",
    "- At moment I am implementing the second branch with yFinance API, wnat to finish it at weekend and then continue with interesting part of Huggingface"
   ]
  },
  {
   "cell_type": "markdown",
   "metadata": {},
   "source": [
    "### 1.3 To Do\n",
    "I had a 1on1 (20 minutes with Oleg Serikov, 06.01.2022)\n",
    "- Approach generally okay\n",
    "- Discussed next steps/ data basis für Huggingface\n",
    "- Task for next week find a finance skill data basis for maybe a QA dialogue\n",
    "- Implement yFinance"
   ]
  },
  {
   "cell_type": "markdown",
   "metadata": {},
   "source": [
    "#### 1.4 Issues\n",
    "- Explore Huggingface and implement it properly, need some time and exploration"
   ]
  },
  {
   "cell_type": "markdown",
   "metadata": {},
   "source": [
    "### 3. Week 3"
   ]
  },
  {
   "cell_type": "markdown",
   "metadata": {},
   "source": [
    "### 4. Week 4"
   ]
  },
  {
   "cell_type": "code",
   "execution_count": null,
   "metadata": {},
   "outputs": [],
   "source": []
  }
 ],
 "metadata": {
  "language_info": {
   "name": "python"
  },
  "orig_nbformat": 4
 },
 "nbformat": 4,
 "nbformat_minor": 2
}
